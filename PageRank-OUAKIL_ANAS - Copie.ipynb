{
 "cells": [
  {
   "cell_type": "code",
   "execution_count": 13,
   "metadata": {},
   "outputs": [],
   "source": [
    "import numpy as np\n",
    "import networkx as nx\n",
    "import json"
   ]
  },
  {
   "cell_type": "code",
   "execution_count": 14,
   "metadata": {},
   "outputs": [],
   "source": [
    "def build_matrix(network, pages):\n",
    "    matrix = []\n",
    "    for i, key in zip(network, pages):\n",
    "        row = []\n",
    "        for k in pages:\n",
    "            if(k in i[key]):\n",
    "                row.append(1)\n",
    "            else:\n",
    "                row.append(0)\n",
    "        matrix.append(row)\n",
    "    matrix = np.array(matrix)\n",
    "    return matrix"
   ]
  },
  {
   "cell_type": "code",
   "execution_count": 15,
   "metadata": {},
   "outputs": [],
   "source": [
    "def draw(pages,matrix):\n",
    "    labels={}\n",
    "    for i in range(len(pages)):\n",
    "        labels[i]=pages[i]\n",
    "    G = nx.from_numpy_array(matrix, create_using = nx.MultiDiGraph())\n",
    "    nx.draw(G,node_color='r', node_size=600, alpha=0.8 ,labels=labels )"
   ]
  },
  {
   "cell_type": "code",
   "execution_count": 16,
   "metadata": {},
   "outputs": [],
   "source": [
    "def pageRank (a,lamBda,epsilon,pages):\n",
    "    \n",
    "    #initialisation\n",
    "    N = len(a)\n",
    "    rpr = (1-lamBda)/N\n",
    "    P = np.zeros((N,N))\n",
    "    #computing the transitional probability \n",
    "    for i in range(N):\n",
    "        sAij=sum(a[i,:])\n",
    "        if sAij==0:\n",
    "            P[i,:]=1/N\n",
    "        else:\n",
    "            for j in range(N):\n",
    "                P[i,j]=(a[i,j]/sum(a[i,:]))*lamBda + rpr\n",
    "    \n",
    "    #calculation PR Vector\n",
    "    P=np.matrix(P)\n",
    "    R=[1/N for k in range(N)]\n",
    "    i=1\n",
    "    test = True\n",
    "    while test:\n",
    "        PR=R@P\n",
    "        if np.linalg.norm((R - PR))<epsilon:\n",
    "            test = False\n",
    "        i+=1\n",
    "        R=PR.copy()\n",
    "        \n",
    "\n",
    "    #presentation   \n",
    "    print(f' {i} iterations.\\n')\n",
    "    dicts = {}\n",
    "    i=0\n",
    "    for page in pages:\n",
    "        dicts[page]=round(PR[0,i],3)\n",
    "        i+=1\n",
    "    print(sorted(dicts.items(), key=lambda dicts: dicts[1] , reverse=True))"
   ]
  },
  {
   "cell_type": "code",
   "execution_count": 17,
   "metadata": {},
   "outputs": [
    {
     "data": {
      "image/png": "[encoded data removed]",
      "text/plain": [
       "<Figure size 432x288 with 1 Axes>"
      ]
     },
     "metadata": {},
     "output_type": "display_data"
    }
   ],
   "source": [
    "#get the json file\n",
    "with open(\"data_json - Copie.json\" , encoding='UTF-8') as file:\n",
    "    network = json.loads(file.read())\n",
    "#extract the pages name\n",
    "pages=[k for d in network for k in d.keys()]\n",
    "#build The adjacency matrix\n",
    "matrix = build_matrix(network, pages)\n",
    "\n",
    "#draw the graph\n",
    "draw(pages,matrix)"
   ]
  },
  {
   "cell_type": "code",
   "execution_count": 18,
   "metadata": {},
   "outputs": [
    {
     "name": "stdout",
     "output_type": "stream",
     "text": [
      " 25 iterations.\n",
      "\n",
      "[('B', 0.276), ('F', 0.164), ('C', 0.132), ('Z', 0.132), ('E', 0.13), ('D', 0.052), ('A', 0.037), ('G', 0.015), ('H', 0.015), ('I', 0.015), ('L', 0.015), ('M', 0.015)]\n"
     ]
    }
   ],
   "source": [
    "lamBda = 0.85\n",
    "epsilon = 10**(-6)\n",
    "pageRank(matrix,lamBda,epsilon,pages)"
   ]
  },
  {
   "cell_type": "code",
   "execution_count": null,
   "metadata": {},
   "outputs": [],
   "source": []
  }
 ],
 "metadata": {
  "kernelspec": {
   "display_name": "Python 3",
   "language": "python",
   "name": "python3"
  },
  "language_info": {
   "codemirror_mode": {
    "name": "ipython",
    "version": 3
   },
   "file_extension": ".py",
   "mimetype": "text/x-python",
   "name": "python",
   "nbconvert_exporter": "python",
   "pygments_lexer": "ipython3",
   "version": "3.6.5"
  }
 },
 "nbformat": 4,
 "nbformat_minor": 2
}
